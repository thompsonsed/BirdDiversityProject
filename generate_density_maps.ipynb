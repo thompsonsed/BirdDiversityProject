{
 "cells": [
  {
   "cell_type": "markdown",
   "metadata": {
    "collapsed": true
   },
   "source": [
    "## Rasterising and combining the coastal and glacial shapefiles\n",
    "\n",
    "Aim is to rasterise the shapefiles into the same projection so that they can then be combined into a single file. It is assumed that there is habitat for the birds if there is land and no ice coverage."
   ]
  },
  {
   "cell_type": "code",
   "execution_count": 1,
   "metadata": {},
   "outputs": [],
   "source": [
    "import os\n",
    "import numpy as np\n",
    "from pycoalescence import Map\n",
    "import matplotlib.pyplot as plt"
   ]
  },
  {
   "cell_type": "code",
   "execution_count": 2,
   "metadata": {},
   "outputs": [],
   "source": [
    "# Define our input data\n",
    "# Define the coastline raster dir - run rasterising_coastlines to create this\n",
    "coastlines_raster_dir = os.path.join(\"data\", \"rasters\", \"historical_coastlines\")\n",
    "# Define the glacial raster dir - run rasterising_coastlines to create this\n",
    "glacial_raster_dir = os.path.join(\"data\", \"rasters\", \"glacial\")\n",
    "# Define the output data\n",
    "density_raster_dir = os.path.join(\"data\", \"density\")\n",
    "if not os.path.exists(density_raster_dir):\n",
    "    os.makedirs(density_raster_dir)\n",
    "# Set the resolution of your files\n",
    "resolution = 0.1"
   ]
  },
  {
   "cell_type": "code",
   "execution_count": 4,
   "metadata": {},
   "outputs": [
    {
     "name": "stdout",
     "output_type": "stream",
     "text": [
      "Skipping data/rasters/historical_coastlines/0.19mya.tif... file does not exists.\n",
      "Skipping data/rasters/historical_coastlines/0.53mya.tif... file does not exists.\n",
      "Skipping data/rasters/historical_coastlines/0.58mya.tif... file does not exists.\n"
     ]
    }
   ],
   "source": [
    "# Assume that the rasterise_coastlines notebook has already been run\n",
    "# Loop over the rasters and pick the correct raster for the m_glacial\n",
    "for i in range(1, 61, 1):\n",
    "    coastal_raster = os.path.join(coastlines_raster_dir, \"{:.2f}mya.tif\".format(i/100))\n",
    "    density_raster = os.path.join(density_raster_dir, \"{:.2f}mya_density.tif\".format(i/100))\n",
    "    if not os.path.exists(coastal_raster):\n",
    "        print(\"Skipping {}... file does not exists.\".format(coastal_raster))\n",
    "        continue\n",
    "    m_coastline = Map(coastal_raster)\n",
    "    m_coastline.create_copy(dst_file=density_raster)\n",
    "    m_density = Map(density_raster)\n",
    "    m_density.open()\n",
    "    m_glacial = Map(os.path.join(glacial_raster_dir, \"{}.tif\".format(i)))\n",
    "    m_glacial.open()\n",
    "    # Set any values in our density map to 0 where the glacial data is > 0\n",
    "    m_density.data[np.ma.masked_where(m_glacial.data > 0, m_density.data).mask] = 0\n",
    "    m_density.write()"
   ]
  },
  {
   "cell_type": "code",
   "execution_count": 21,
   "metadata": {
    "scrolled": true
   },
   "outputs": [
    {
     "data": {
      "text/plain": [
       "<matplotlib.axes._subplots.AxesSubplot at 0x7f63dd8b0588>"
      ]
     },
     "execution_count": 21,
     "metadata": {},
     "output_type": "execute_result"
    },
    {
     "data": {
      "image/png": "[encoded data removed]",
      "text/plain": [
       "<Figure size 432x288 with 1 Axes>"
      ]
     },
     "metadata": {},
     "output_type": "display_data"
    }
   ],
   "source": [
    "%matplotlib inline\n",
    "import seaborn as sb\n",
    "# Can easily plot any one we want\n",
    "m_density = Map(os.path.join(density_raster_dir, \"0.02mya_density.tif\"))\n",
    "m_density.open()\n",
    "sb.heatmap(m_density.data, cmap=\"Blues_r\", square=True, vmin=0, vmax=1,\n",
    "           yticklabels=False, xticklabels=False, cbar=False)"
   ]
  }
 ],
 "metadata": {
  "kernelspec": {
   "display_name": "Python 3",
   "language": "python",
   "name": "python3"
  },
  "language_info": {
   "codemirror_mode": {
    "name": "ipython",
    "version": 3
   },
   "file_extension": ".py",
   "mimetype": "text/x-python",
   "name": "python",
   "nbconvert_exporter": "python",
   "pygments_lexer": "ipython3",
   "version": "3.6.5"
  }
 },
 "nbformat": 4,
 "nbformat_minor": 1
}
