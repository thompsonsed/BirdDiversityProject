{
 "cells": [
  {
   "cell_type": "markdown",
   "metadata": {},
   "source": [
    "## Rasterising the coastlines from 0.01mya to 0.60 mya"
   ]
  },
  {
   "cell_type": "code",
   "execution_count": 1,
   "metadata": {},
   "outputs": [],
   "source": [
    "import os\n",
    "from pycoalescence import Map\n",
    "import seaborn as sb # for nice plotting\n",
    "import matplotlib.pyplot as plt"
   ]
  },
  {
   "cell_type": "code",
   "execution_count": 2,
   "metadata": {},
   "outputs": [],
   "source": [
    "# Change this path to wherever your shapefiles are\n",
    "coastlines_input_dir = os.path.join(\"data\", \"shapefiles\", \"historical_coastlines\")\n",
    "coastlines_output_dir = os.path.join(\"data\", \"rasters\", \"historical_coastlines\")\n",
    "coastlines_output_compressed_dir = os.path.join(\"data\", \"rasters\", \"historical_coastlines_compressed\")\n",
    "# Define our input data\n",
    "original_glacial = os.path.join(\"data\", \"rasters\", \"original\", \n",
    "                                \"0.01MYA_deBoer_global_1deg_icethickness_compressed.tif\")\n",
    "projected_glacial = os.path.join(\"data\", \"rasters\", \"original\",\n",
    "                                 \"0.01MYA_deBoer_global_1deg_icethickness_compressed_reproj.tif\")\n",
    "for folder in [coastlines_output_dir, coastlines_output_compressed_dir]:\n",
    "    if not os.path.exists(folder):\n",
    "        os.makedirs(folder)"
   ]
  },
  {
   "cell_type": "code",
   "execution_count": 5,
   "metadata": {},
   "outputs": [],
   "source": [
    "# Define our target geotransform\n",
    "if os.path.exists(projected_glacial):\n",
    "\tos.remove(projected_glacial)\n",
    "# Get the geotransform and projection of the glacial data (which we will try to match with the coastlines)\n",
    "m_glacial = Map(original_glacial)\n",
    "# Put this back in if you are rescaling the file - change the x_scalar and y_scalar accordingly\n",
    "# (0.01 is 0.01 degrees resolution)\n",
    "# m_glacial.reproject_raster(x_scalar=0.01, y_scalar=0.01, dest_file=projected_glacial)\n",
    "# m_glacial = Map(projected_glacial)\n",
    "target_geotransform = m_glacial.get_geo_transform()\n",
    "target_proj = m_glacial.get_projection()"
   ]
  },
  {
   "cell_type": "code",
   "execution_count": 6,
   "metadata": {},
   "outputs": [],
   "source": [
    "# This performs the actual rasterisation\n",
    "for file in os.listdir(coastlines_input_dir):\n",
    "    coastline_shapefile = os.path.join(coastlines_input_dir, file)\n",
    "    file_name, file_ext = os.path.splitext(coastline_shapefile)\n",
    "    # Search for files which are .shp type\n",
    "    if file_ext == \".shp\":\n",
    "        # Get the year (in mya) of the shapefile\n",
    "        year = file.split(\"_\", 1)[0].lower()\n",
    "        # Define the name of our output raster\n",
    "        coastline_raster = os.path.join(coastlines_output_dir, \"{}.tif\".format(year))\n",
    "        coastline_raster_compressed = os.path.join(coastlines_output_compressed_dir, \"{}_compressed.tif\".format(year))\n",
    "        if not os.path.exists(coastline_raster):\n",
    "            m_coastline = Map()\n",
    "            # perform the rasterisation\n",
    "            ## IMPORTANT change the below width and height if rasterising at different resolutions\n",
    "            m_coastline.rasterise(shape_file=coastline_shapefile, raster_file=coastline_raster, \n",
    "                                  output_srs=target_proj, geo_transform=target_geotransform,\n",
    "                                  x_buffer=0, y_buffer=0, width=360, height=180)\n",
    "            ## This is the new line that compresses the output\n",
    "            m_coastline.translate(dest_file=coastline_raster_compressed, creationOptions=[\"COMPRESS=LZW\"])\n",
    "        "
   ]
  },
  {
   "cell_type": "code",
   "execution_count": 10,
   "metadata": {
    "scrolled": true
   },
   "outputs": [
    {
     "data": {
      "text/plain": [
       "<matplotlib.axes._subplots.AxesSubplot at 0x7f117e94b9b0>"
      ]
     },
     "execution_count": 10,
     "metadata": {},
     "output_type": "execute_result"
    },
    {
     "data": {
      "image/png": "[encoded data removed]",
      "text/plain": [
       "<Figure size 432x288 with 1 Axes>"
      ]
     },
     "metadata": {},
     "output_type": "display_data"
    }
   ],
   "source": [
    "%matplotlib inline\n",
    "m = Map(coastline_raster)\n",
    "m.open()\n",
    "sb.heatmap(m.data, cmap=\"Blues_r\", square=True, vmin=0, vmax=1, yticklabels=False, xticklabels=False, cbar=False)"
   ]
  }
 ],
 "metadata": {
  "kernelspec": {
   "display_name": "Python 3",
   "language": "python",
   "name": "python3"
  },
  "language_info": {
   "codemirror_mode": {
    "name": "ipython",
    "version": 3
   },
   "file_extension": ".py",
   "mimetype": "text/x-python",
   "name": "python",
   "nbconvert_exporter": "python",
   "pygments_lexer": "ipython3",
   "version": "3.6.5"
  }
 },
 "nbformat": 4,
 "nbformat_minor": 2
}
