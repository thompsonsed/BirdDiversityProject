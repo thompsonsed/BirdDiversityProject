{
 "cells": [
  {
   "cell_type": "markdown",
   "metadata": {},
   "source": [
    "## Plot an animation of glacial extent over time"
   ]
  },
  {
   "cell_type": "code",
   "execution_count": 5,
   "metadata": {},
   "outputs": [],
   "source": [
    "import os\n",
    "import seaborn as sb\n",
    "from PIL import Image # this requires you have installed pillow (pip install pillow)\n",
    "import imageio # pip install imageio\n",
    "import matplotlib.pyplot as plt\n",
    "import numpy as np"
   ]
  },
  {
   "cell_type": "code",
   "execution_count": 8,
   "metadata": {},
   "outputs": [],
   "source": [
    "# Change this path to wherever your shapefiles are\n",
    "coastlines_input_dir = os.path.join(\"data\", \"shapefiles\", \"historical_coastlines\")\n",
    "coastlines_output_dir = os.path.join(\"data\", \"rasters\", \"historical_coastlines\")\n",
    "# Define and create our figure directories\n",
    "img_fig_dir = os.path.join(\"figures\", \"imgs\")\n",
    "gif_fig_dir = os.path.join(\"figures\", \"gifs\")\n",
    "for folder in [img_fig_dir, gif_fig_dir]:\n",
    "    if not os.path.exists(folder):\n",
    "        os.makedirs(folder)"
   ]
  },
  {
   "cell_type": "code",
   "execution_count": 9,
   "metadata": {},
   "outputs": [
    {
     "name": "stdout",
     "output_type": "stream",
     "text": [
      "Skipping 0.19mya.tif... files doesn't exist\n",
      "Skipping 0.53mya.tif... files doesn't exist\n",
      "Skipping 0.58mya.tif... files doesn't exist\n"
     ]
    }
   ],
   "source": [
    "# This takes some time - it converts the tif files to pngs using seaborn to plot the files\n",
    "%matplotlib inline\n",
    "coastline_raster = [\"{:.2f}mya.tif\".format(x/100) for x in range(1, 61, 1)]\n",
    "\n",
    "for file in coastline_raster:\n",
    "    file_path = os.path.join(coastlines_output_dir, file)\n",
    "    if not os.path.exists(file_path):\n",
    "        print(\"Skipping {}... files doesn't exist\".format(file))\n",
    "        continue\n",
    "    mya = os.path.splitext(file)[0]\n",
    "    output_file = os.path.join(img_fig_dir, \"{}.png\".format(mya))\n",
    "    if not os.path.exists(output_file):\n",
    "        m = Map(file_path)\n",
    "        m.open()\n",
    "        plt.clf()\n",
    "        p1 = sb.heatmap(m.data, cmap=\"Blues_r\", square=True, vmin=0, vmax=1,\n",
    "                          yticklabels=False, xticklabels=False, cbar=False)\n",
    "        p1.text(100, 1500, \"{}\".format(mya), horizontalalignment='left', \n",
    "                size='medium', color='white', weight='semibold')\n",
    "        p1.figure.savefig(output_file, dpi=600)"
   ]
  },
  {
   "cell_type": "code",
   "execution_count": 13,
   "metadata": {},
   "outputs": [],
   "source": [
    "# Great the gif\n",
    "images = []\n",
    "total_time = 10\n",
    "for i in range(1, 61, 1):\n",
    "    file = os.path.join(img_fig_dir, \"{:.2f}mya.png\".format(i/100))\n",
    "    if os.path.exists(file):\n",
    "        im = Image.open(file)\n",
    "        images.append(im)\n",
    "imageio.mimsave(os.path.join(gif_fig_dir, \"historical_coastlines.gif\"), images,'GIF',\n",
    "                duration=total_time/60)"
   ]
  },
  {
   "cell_type": "code",
   "execution_count": null,
   "metadata": {},
   "outputs": [],
   "source": []
  }
 ],
 "metadata": {
  "kernelspec": {
   "display_name": "Python 3",
   "language": "python",
   "name": "python3"
  },
  "language_info": {
   "codemirror_mode": {
    "name": "ipython",
    "version": 3
   },
   "file_extension": ".py",
   "mimetype": "text/x-python",
   "name": "python",
   "nbconvert_exporter": "python",
   "pygments_lexer": "ipython3",
   "version": "3.6.5"
  }
 },
 "nbformat": 4,
 "nbformat_minor": 2
}
