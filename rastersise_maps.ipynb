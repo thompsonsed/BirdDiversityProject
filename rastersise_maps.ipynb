{
 "cells": [
  {
   "cell_type": "markdown",
   "metadata": {
    "collapsed": true
   },
   "source": [
    "## Rasterising and combining the coastal and glacial shapefiles\n",
    "\n",
    "Aim is to rasterise the shapefiles into the same projection so that they can then be combined into a single file. It is assumed that there is habitat for the birds if there is land and no ice coverage."
   ]
  },
  {
   "cell_type": "code",
   "execution_count": 1,
   "metadata": {},
   "outputs": [],
   "source": [
    "import os\n",
    "import numpy as np\n",
    "from pycoalescence import Map\n",
    "import matplotlib.pyplot as plt"
   ]
  },
  {
   "cell_type": "code",
   "execution_count": 2,
   "metadata": {},
   "outputs": [],
   "source": [
    "# Define our input data\n",
    "original_glacial = os.path.join(\"data\", \"rasters\", \"original\", \"0.01MYA_deBoer_global_1deg_icethickness_compressed.tif\")\n",
    "coastline_shapefile = os.path.join(\"data\", \"shapefiles\", \"0.01MYA_-31m_FINAL.shp\")\n",
    "# Define the output data\n",
    "coastline_raster = os.path.join(\"data\", \"rasters\", \"0.01MYA_-31m_FINAL.tif\")\n",
    "density_raster = os.path.join(\"data\", \"rasters\", \"density_0.01mya.tif\")"
   ]
  },
  {
   "cell_type": "code",
   "execution_count": 3,
   "metadata": {},
   "outputs": [],
   "source": [
    "# Get the geotransform and projection of the glacial data (which we will try to match with the coastlines)\n",
    "m_glacial = Map(original_glacial)\n",
    "target_geotransform = m_glacial.get_geo_transform()\n",
    "target_proj = m_glacial.get_projection()"
   ]
  },
  {
   "cell_type": "code",
   "execution_count": 4,
   "metadata": {},
   "outputs": [],
   "source": [
    "# Create the raster of the coastlines based on our target projection and geotransform\n",
    "for file in [coastline_raster, density_raster]:\n",
    "    if os.path.exists(file):\n",
    "        os.remove(file)\n",
    "m_coastline = Map()\n",
    "m_coastline.rasterise(shape_file=coastline_shapefile, raster_file=coastline_raster, output_srs=target_proj,\n",
    "                      geo_transform=target_geotransform, x_buffer=0, y_buffer=0, width=360, height=180)\n",
    "# Create a new raster for density at 0.01 mya\n",
    "m_coastline.create_copy(dst_file=density_raster)\n",
    "m_density = Map(density_raster)\n",
    "# Open the data into a numpy array\n",
    "m_density.open()\n",
    "# Remove any land area that is covered by ice. \n",
    "# The map has a lot of bands so see if any bands have a value > 0. \n",
    "for i in range(1, m_glacial.get_band_number() + 1):\n",
    "    # Open a specific band number\n",
    "    m_glacial.open(band_no=i)\n",
    "    # Set any values in our density map to 0 where the glacial data is > 0\n",
    "    m_density.data[np.ma.masked_where(m_glacial.data > 0, m_density.data).mask] = 0\n",
    "# Write the data to the density map raster\n",
    "m_density.write()"
   ]
  },
  {
   "cell_type": "code",
   "execution_count": 5,
   "metadata": {},
   "outputs": [],
   "source": [
    "# Now show the new density plot\n",
    "m_density.plot()\n",
    "plt.show()"
   ]
  },
  {
   "cell_type": "code",
   "execution_count": null,
   "metadata": {},
   "outputs": [],
   "source": []
  }
 ],
 "metadata": {
  "kernelspec": {
   "display_name": "Python 2",
   "language": "python",
   "name": "python2"
  },
  "language_info": {
   "codemirror_mode": {
    "name": "ipython",
    "version": 2
   },
   "file_extension": ".py",
   "mimetype": "text/x-python",
   "name": "python",
   "nbconvert_exporter": "python",
   "pygments_lexer": "ipython2",
   "version": "2.7.6"
  }
 },
 "nbformat": 4,
 "nbformat_minor": 0
}
